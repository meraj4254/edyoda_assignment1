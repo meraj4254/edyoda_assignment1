{
 "cells": [
  {
   "cell_type": "markdown",
   "id": "5d81623c",
   "metadata": {},
   "source": [
    "# Edyoda first assignment\n"
   ]
  },
  {
   "cell_type": "code",
   "execution_count": 30,
   "id": "e1d5d495",
   "metadata": {},
   "outputs": [
    {
     "name": "stdout",
     "output_type": "stream",
     "text": [
      "1\n",
      "1\n",
      "2\n",
      "3\n",
      "5\n",
      "8\n",
      "13\n",
      "21\n",
      "34\n"
     ]
    }
   ],
   "source": [
    "\n",
    "\n",
    "# Note : The Fibonacci Sequence is the series of numbers :\n",
    "\n",
    "# 0, 1, 1, 2, 3, 5, 8, 13, 21, ....\n",
    "\n",
    "# Every next number is found by adding up the two numbers before it.\n",
    "\n",
    "# Expected Output : 1 1 2 3 5 8 13 21 34\n",
    "\n",
    "a,b=0,1\n",
    "while b<=50:\n",
    "    print(b)\n",
    "    a,b=b,a+b\n"
   ]
  },
  {
   "cell_type": "code",
   "execution_count": 22,
   "id": "999ade3d",
   "metadata": {
    "scrolled": true
   },
   "outputs": [
    {
     "name": "stdout",
     "output_type": "stream",
     "text": [
      "adoydE\n"
     ]
    }
   ],
   "source": [
    "# Write a Python program that accepts a word from the user and reverse it.\n",
    "\n",
    "# Input : Edyoda\n",
    "\n",
    "# output: adoydE\n",
    "\n",
    "input_1 = \"Edyoda\"\n",
    "output = (input_1[::-1])\n",
    "print(output)"
   ]
  },
  {
   "cell_type": "code",
   "execution_count": 29,
   "id": "9df73003",
   "metadata": {},
   "outputs": [
    {
     "name": "stdout",
     "output_type": "stream",
     "text": [
      "Total even no:- 4\n",
      "Total odd no:- 5\n"
     ]
    }
   ],
   "source": [
    "#Write a Python program to count the number of even and odd numbers from a series of numbers.\n",
    "\n",
    "\n",
    "\n",
    "#Sample numbers : numbers = (1, 2, 3, 4, 5, 6, 7, 8, 9) \n",
    "\n",
    "#Expected Output :\n",
    "\n",
    "#Number of even numbers : 4\n",
    "\n",
    "#Number of odd numbers : 5\n",
    "\n",
    "\n",
    "numbers = (1, 2, 3, 4, 5, 6, 7, 8, 9)\n",
    "\n",
    "Number_of_even_numbers_count=0\n",
    "\n",
    "Number_of_odd_numbers_count=0 \n",
    "\n",
    "for i in numbers:\n",
    "    if i%2==0:\n",
    "        Number_of_even_numbers_count+=1\n",
    "    else:\n",
    "        Number_of_odd_numbers_count+=1\n",
    "        \n",
    "print(\"Total even no:-\", Number_of_even_numbers_count) \n",
    "print(\"Total odd no:-\", Number_of_odd_numbers_count)\n"
   ]
  },
  {
   "cell_type": "code",
   "execution_count": null,
   "id": "72c669b5",
   "metadata": {},
   "outputs": [],
   "source": []
  },
  {
   "cell_type": "code",
   "execution_count": null,
   "id": "f1390e0e",
   "metadata": {},
   "outputs": [],
   "source": []
  }
 ],
 "metadata": {
  "kernelspec": {
   "display_name": "Python 3 (ipykernel)",
   "language": "python",
   "name": "python3"
  },
  "language_info": {
   "codemirror_mode": {
    "name": "ipython",
    "version": 3
   },
   "file_extension": ".py",
   "mimetype": "text/x-python",
   "name": "python",
   "nbconvert_exporter": "python",
   "pygments_lexer": "ipython3",
   "version": "3.10.2"
  }
 },
 "nbformat": 4,
 "nbformat_minor": 5
}
